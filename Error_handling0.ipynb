{
  "nbformat": 4,
  "nbformat_minor": 0,
  "metadata": {
    "colab": {
      "provenance": [],
      "authorship_tag": "ABX9TyOhk0l266fEG9ri7smhNrmw",
      "include_colab_link": true
    },
    "kernelspec": {
      "name": "python3",
      "display_name": "Python 3"
    },
    "language_info": {
      "name": "python"
    }
  },
  "cells": [
    {
      "cell_type": "markdown",
      "metadata": {
        "id": "view-in-github",
        "colab_type": "text"
      },
      "source": [
        "<a href=\"https://colab.research.google.com/github/mahinkhan1408/Python/blob/main/Error_handling0.ipynb\" target=\"_parent\"><img src=\"https://colab.research.google.com/assets/colab-badge.svg\" alt=\"Open In Colab\"/></a>"
      ]
    },
    {
      "cell_type": "markdown",
      "source": [
        "**Try Except Block**"
      ],
      "metadata": {
        "id": "E7ECky9L099a"
      }
    },
    {
      "cell_type": "code",
      "execution_count": 1,
      "metadata": {
        "colab": {
          "base_uri": "https://localhost:8080/"
        },
        "id": "-K1S65OmzuUw",
        "outputId": "88bd59a0-8170-41db-9b18-c2c144343271"
      },
      "outputs": [
        {
          "output_type": "stream",
          "name": "stdout",
          "text": [
            " you divided by zero\n"
          ]
        }
      ],
      "source": [
        "try:\n",
        "  print(10/0)\n",
        "except ZeroDivisionError:\n",
        "  print(\" you divided by zero\")"
      ]
    },
    {
      "cell_type": "markdown",
      "source": [
        "we dont need to define the error type in except, if we don't define it will work with every type of erros"
      ],
      "metadata": {
        "id": "QiPAOI-u1ClZ"
      }
    },
    {
      "cell_type": "code",
      "source": [
        "try:\n",
        "  print(10/0)\n",
        "except:\n",
        "  print(\" there s error\")"
      ],
      "metadata": {
        "colab": {
          "base_uri": "https://localhost:8080/"
        },
        "id": "7riP-1R51LXk",
        "outputId": "db407ad3-557a-4a04-e1f9-fcdb8eab8ba5"
      },
      "execution_count": 2,
      "outputs": [
        {
          "output_type": "stream",
          "name": "stdout",
          "text": [
            " there s error\n"
          ]
        }
      ]
    },
    {
      "cell_type": "code",
      "source": [
        "# example 1\n",
        "try:\n",
        "  print(10/0)\n",
        "except:\n",
        "  print(\" there s error\")\n",
        "else:\n",
        "  print(\" it will executed when there is no error\")\n",
        "finally:\n",
        "  print(\" it will executed if its an error or not, if you need something to be printed you can write this\")"
      ],
      "metadata": {
        "colab": {
          "base_uri": "https://localhost:8080/"
        },
        "id": "6oxz2cZ61SdJ",
        "outputId": "8886c6d0-7867-4c00-cd40-1bd05fb59309"
      },
      "execution_count": 4,
      "outputs": [
        {
          "output_type": "stream",
          "name": "stdout",
          "text": [
            " there s error\n",
            " it will executed if its an error or not, if you need something to be printed you can write this\n"
          ]
        }
      ]
    },
    {
      "cell_type": "code",
      "source": [
        "#example 2\n",
        "try:\n",
        "  print(10/5)\n",
        "except:\n",
        "  print(\" there s error\")\n",
        "else:\n",
        "  print(\" it will executed when there is no error\")\n",
        "finally:\n",
        "  print(\" it will executed if its an error or not, if you need something to be printed you can write this\")"
      ],
      "metadata": {
        "colab": {
          "base_uri": "https://localhost:8080/"
        },
        "id": "i72WBRr512F1",
        "outputId": "5d0bcec1-ed29-4c1e-ce6b-2b2843c39546"
      },
      "execution_count": 5,
      "outputs": [
        {
          "output_type": "stream",
          "name": "stdout",
          "text": [
            "2.0\n",
            " it will executed when there is no error\n",
            " it will executed if its an error or not, if you need something to be printed you can write this\n"
          ]
        }
      ]
    }
  ]
}