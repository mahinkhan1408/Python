{
  "nbformat": 4,
  "nbformat_minor": 0,
  "metadata": {
    "colab": {
      "provenance": [],
      "authorship_tag": "ABX9TyNQeKgPd18ZWZhOUqaAhPiR",
      "include_colab_link": true
    },
    "kernelspec": {
      "name": "python3",
      "display_name": "Python 3"
    },
    "language_info": {
      "name": "python"
    }
  },
  "cells": [
    {
      "cell_type": "markdown",
      "metadata": {
        "id": "view-in-github",
        "colab_type": "text"
      },
      "source": [
        "<a href=\"https://colab.research.google.com/github/mahinkhan1408/Python/blob/main/tuple.ipynb\" target=\"_parent\"><img src=\"https://colab.research.google.com/assets/colab-badge.svg\" alt=\"Open In Colab\"/></a>"
      ]
    },
    {
      "cell_type": "code",
      "execution_count": null,
      "metadata": {
        "id": "8q73Rupy-Ueu"
      },
      "outputs": [],
      "source": []
    },
    {
      "cell_type": "markdown",
      "source": [
        "There several collections in python:\n",
        "\n",
        "* tuple\n",
        "* dictionalry\n",
        "*json"
      ],
      "metadata": {
        "id": "7PIBvebQ-n41"
      }
    },
    {
      "cell_type": "markdown",
      "source": [
        "Tuples\n",
        "* cannot changed\n",
        "* ordered and unchangeable\n",
        "* immutable\n",
        "\n",
        "can access them with indec\n",
        "\n"
      ],
      "metadata": {
        "id": "ElV4-cKN-4uU"
      }
    },
    {
      "cell_type": "code",
      "source": [
        "employee = (1,'Deepak', 'Indore', 124)\n",
        "print(employee )"
      ],
      "metadata": {
        "colab": {
          "base_uri": "https://localhost:8080/"
        },
        "id": "y6VXDSaF-wwb",
        "outputId": "0cc682c7-ef07-4b73-bf50-abba277bda0f"
      },
      "execution_count": 1,
      "outputs": [
        {
          "output_type": "stream",
          "name": "stdout",
          "text": [
            "(1, 'Deepak', 'Indore', 124)\n"
          ]
        }
      ]
    },
    {
      "cell_type": "code",
      "source": [
        "print(len(employee))"
      ],
      "metadata": {
        "colab": {
          "base_uri": "https://localhost:8080/"
        },
        "id": "_6qSVCXW_3lN",
        "outputId": "1e691a3d-2e45-4a48-9c6b-9f496ff28d01"
      },
      "execution_count": 2,
      "outputs": [
        {
          "output_type": "stream",
          "name": "stdout",
          "text": [
            "4\n"
          ]
        }
      ]
    },
    {
      "cell_type": "code",
      "source": [
        "# immutabe= can't change\n",
        "# if we want to change we need to convert it to list\n",
        "\n",
        "new_emp= list(employee)\n",
        "new_emp[1]= 'deepak dies'\n",
        "employee= tuple(new_emp)\n",
        "print(employee)\n",
        "\n"
      ],
      "metadata": {
        "colab": {
          "base_uri": "https://localhost:8080/"
        },
        "id": "YiY3CoqY_7Ku",
        "outputId": "36dba13c-fc5b-40f1-9b9d-f0b23026e2e9"
      },
      "execution_count": 5,
      "outputs": [
        {
          "output_type": "stream",
          "name": "stdout",
          "text": [
            "(1, 'deepak dies', 'Indore', 124)\n"
          ]
        }
      ]
    },
    {
      "cell_type": "code",
      "source": [
        "#iterate a touple\n",
        "\n",
        "for x in employee:\n",
        "  print(x)"
      ],
      "metadata": {
        "colab": {
          "base_uri": "https://localhost:8080/"
        },
        "id": "88aZdVbp__Wn",
        "outputId": "a2b0f36c-36ac-494e-8c63-2929d71147a5"
      },
      "execution_count": 6,
      "outputs": [
        {
          "output_type": "stream",
          "name": "stdout",
          "text": [
            "1\n",
            "deepak dies\n",
            "Indore\n",
            "124\n"
          ]
        }
      ]
    },
    {
      "cell_type": "code",
      "source": [
        "print(employee.index(124))\n",
        "print(employee.index('Indore'))"
      ],
      "metadata": {
        "colab": {
          "base_uri": "https://localhost:8080/"
        },
        "id": "VPxjMvqkAo5Q",
        "outputId": "7732bac0-58f9-45b4-9ebd-e0336c4fe070"
      },
      "execution_count": 8,
      "outputs": [
        {
          "output_type": "stream",
          "name": "stdout",
          "text": [
            "3\n",
            "2\n"
          ]
        }
      ]
    },
    {
      "cell_type": "code",
      "source": [],
      "metadata": {
        "id": "paqzAgrrA0k0"
      },
      "execution_count": null,
      "outputs": []
    }
  ]
}