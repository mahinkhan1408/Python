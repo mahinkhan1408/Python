{
  "nbformat": 4,
  "nbformat_minor": 0,
  "metadata": {
    "colab": {
      "provenance": [],
      "authorship_tag": "ABX9TyO62Xs/oexyb57YolMjBUpP",
      "include_colab_link": true
    },
    "kernelspec": {
      "name": "python3",
      "display_name": "Python 3"
    },
    "language_info": {
      "name": "python"
    }
  },
  "cells": [
    {
      "cell_type": "markdown",
      "metadata": {
        "id": "view-in-github",
        "colab_type": "text"
      },
      "source": [
        "<a href=\"https://colab.research.google.com/github/mahinkhan1408/Python/blob/main/Set.ipynb\" target=\"_parent\"><img src=\"https://colab.research.google.com/assets/colab-badge.svg\" alt=\"Open In Colab\"/></a>"
      ]
    },
    {
      "cell_type": "markdown",
      "source": [
        "**SET**\n",
        "\n",
        "* no duplicates\n",
        "* not ordered"
      ],
      "metadata": {
        "id": "KVHf5edZGsHe"
      }
    },
    {
      "cell_type": "code",
      "execution_count": 6,
      "metadata": {
        "colab": {
          "base_uri": "https://localhost:8080/"
        },
        "id": "dNgGd1ejGre5",
        "outputId": "7f346c91-e1e7-454a-efa5-7df42bfa59f7"
      },
      "outputs": [
        {
          "output_type": "stream",
          "name": "stdout",
          "text": [
            "{'albc', 'and', 'amdh', 'abc'}\n"
          ]
        }
      ],
      "source": [
        "a = { \"albc\", \"and\", \"amdh\", \"abc\", \"abc\"}\n",
        "print(a)"
      ]
    },
    {
      "cell_type": "code",
      "source": [
        "b = {'abncc','abc','mahin'}\n",
        "\n",
        "# add set to another set\n",
        "\n",
        "a.update(b)\n",
        "print(a)"
      ],
      "metadata": {
        "id": "7Ur1rseoJpBc"
      },
      "execution_count": null,
      "outputs": []
    },
    {
      "cell_type": "code",
      "source": [
        "#add element in a set\n",
        "\n",
        "a.add('kab') # takes only 1 argumennt\n",
        "print(a)"
      ],
      "metadata": {
        "colab": {
          "base_uri": "https://localhost:8080/"
        },
        "id": "GF-YBt1YJ2mf",
        "outputId": "6ca7be0c-51d1-44f9-a163-7dbe19e5109d"
      },
      "execution_count": 12,
      "outputs": [
        {
          "output_type": "stream",
          "name": "stdout",
          "text": [
            "{'abncc', 'kab', 'albc', 'amdh', 'mahin', 'and', 'abc'}\n"
          ]
        }
      ]
    },
    {
      "cell_type": "code",
      "source": [
        "a.remove('abc')\n",
        "print(a)"
      ],
      "metadata": {
        "colab": {
          "base_uri": "https://localhost:8080/"
        },
        "id": "ENAv5rtLKKTz",
        "outputId": "99bef7b1-b049-4974-9849-667577f3f63f"
      },
      "execution_count": 13,
      "outputs": [
        {
          "output_type": "stream",
          "name": "stdout",
          "text": [
            "{'abncc', 'kab', 'albc', 'amdh', 'mahin', 'and'}\n"
          ]
        }
      ]
    },
    {
      "cell_type": "code",
      "source": [
        "# to completely empty\n",
        "\n",
        "b.clear()\n",
        "print(b)"
      ],
      "metadata": {
        "colab": {
          "base_uri": "https://localhost:8080/"
        },
        "id": "wEid2Yb_O4jR",
        "outputId": "f1be5d69-115e-4047-c771-decfb8cb90d6"
      },
      "execution_count": 14,
      "outputs": [
        {
          "output_type": "stream",
          "name": "stdout",
          "text": [
            "set()\n"
          ]
        }
      ]
    },
    {
      "cell_type": "markdown",
      "source": [
        "There are some more options in set, union intersection etc"
      ],
      "metadata": {
        "id": "L3HKXhQaPA_b"
      }
    },
    {
      "cell_type": "code",
      "source": [],
      "metadata": {
        "id": "AYZt1JeRO_EP"
      },
      "execution_count": null,
      "outputs": []
    },
    {
      "cell_type": "markdown",
      "source": [
        "="
      ],
      "metadata": {
        "id": "Av_3c5ecJIYL"
      }
    }
  ]
}