{
  "nbformat": 4,
  "nbformat_minor": 0,
  "metadata": {
    "colab": {
      "provenance": [],
      "authorship_tag": "ABX9TyMkeuOIDZe0RZZIcuj2lhxY",
      "include_colab_link": true
    },
    "kernelspec": {
      "name": "python3",
      "display_name": "Python 3"
    },
    "language_info": {
      "name": "python"
    }
  },
  "cells": [
    {
      "cell_type": "markdown",
      "metadata": {
        "id": "view-in-github",
        "colab_type": "text"
      },
      "source": [
        "<a href=\"https://colab.research.google.com/github/mahinkhan1408/Python/blob/main/strings.ipynb\" target=\"_parent\"><img src=\"https://colab.research.google.com/assets/colab-badge.svg\" alt=\"Open In Colab\"/></a>"
      ]
    },
    {
      "cell_type": "code",
      "execution_count": 2,
      "metadata": {
        "colab": {
          "base_uri": "https://localhost:8080/"
        },
        "id": "o-0cQi4utLQH",
        "outputId": "309535b3-3def-4c13-9c37-c000a6507595"
      },
      "outputs": [
        {
          "output_type": "stream",
          "name": "stdout",
          "text": [
            "hello\n",
            "helloabc\n"
          ]
        }
      ],
      "source": [
        "a =\"hello\"\n",
        "print(a)\n",
        "b = \"abc\"\n",
        "c = a+b\n",
        "print(c)"
      ]
    },
    {
      "cell_type": "code",
      "source": [
        "d= c.replace('abc',' mahin')\n",
        "print(d)"
      ],
      "metadata": {
        "colab": {
          "base_uri": "https://localhost:8080/"
        },
        "id": "Pv8kr04Qveyt",
        "outputId": "5bd81dea-94bb-479a-9fa0-418a6b3335c0"
      },
      "execution_count": 3,
      "outputs": [
        {
          "output_type": "stream",
          "name": "stdout",
          "text": [
            "hello mahin\n"
          ]
        }
      ]
    },
    {
      "cell_type": "markdown",
      "source": [
        "**STRIP()**\n",
        "- remove the extra spaces from the  starting of the lines"
      ],
      "metadata": {
        "id": "cp9ugwMMv5pl"
      }
    },
    {
      "cell_type": "code",
      "source": [
        "print(d.strip())"
      ],
      "metadata": {
        "colab": {
          "base_uri": "https://localhost:8080/"
        },
        "id": "_yRzOrHLwBUu",
        "outputId": "3342604d-c079-45d1-a154-099f0d998f2e"
      },
      "execution_count": null,
      "outputs": [
        {
          "output_type": "stream",
          "name": "stdout",
          "text": [
            "helloabc\n"
          ]
        }
      ]
    },
    {
      "cell_type": "markdown",
      "source": [
        "**FIND()**\n",
        "\n",
        "-- helps to find out the index position of the string"
      ],
      "metadata": {
        "id": "vkBOER2jw01P"
      }
    },
    {
      "cell_type": "code",
      "source": [
        "abul = \"tuhin is a kamnla boy , i bought him from nizeria\"\n",
        "\n",
        "abul.find(\"bought\")"
      ],
      "metadata": {
        "colab": {
          "base_uri": "https://localhost:8080/"
        },
        "id": "UwfiNFHnw71D",
        "outputId": "a0292292-28d4-41fb-cf77-34f090c05718"
      },
      "execution_count": null,
      "outputs": [
        {
          "output_type": "execute_result",
          "data": {
            "text/plain": [
              "26"
            ]
          },
          "metadata": {},
          "execution_count": 12
        }
      ]
    },
    {
      "cell_type": "markdown",
      "source": [
        "**Format Method**\n",
        " x= abc {}\n",
        " x.format('aaa')\n",
        "\n",
        " ===reuslt=== abc aaa"
      ],
      "metadata": {
        "id": "SSdsh6QvyMlP"
      }
    },
    {
      "cell_type": "code",
      "source": [
        "sentence= 'hello {}'\n",
        "\n",
        "print(sentence.format('mahin boss'))"
      ],
      "metadata": {
        "id": "Eh5ANCblzMnV",
        "colab": {
          "base_uri": "https://localhost:8080/"
        },
        "outputId": "22113d9c-0fda-494f-a57f-a230cdef0a27"
      },
      "execution_count": 4,
      "outputs": [
        {
          "output_type": "stream",
          "name": "stdout",
          "text": [
            "hello mahin boss\n"
          ]
        }
      ]
    },
    {
      "cell_type": "code",
      "source": [
        "x= 'abc bhagsh ajiwhs efGHI'\n",
        "\n",
        "print(x.upper())\n",
        "\n",
        "print(x.lower())"
      ],
      "metadata": {
        "colab": {
          "base_uri": "https://localhost:8080/"
        },
        "id": "7eePHwhKyxDj",
        "outputId": "86ce4766-a34a-43ac-b4e6-9e65e5a3f413"
      },
      "execution_count": 9,
      "outputs": [
        {
          "output_type": "stream",
          "name": "stdout",
          "text": [
            "ABC BHAGSH AJIWHS EFGHI\n",
            "abc bhagsh ajiwhs efghi\n"
          ]
        }
      ]
    },
    {
      "cell_type": "markdown",
      "source": [
        "**Sentence to list of words**\n",
        "\n",
        "Use Split function for that"
      ],
      "metadata": {
        "id": "CAwxeFBAzRxy"
      }
    },
    {
      "cell_type": "code",
      "source": [
        "lists= x.split()\n",
        "print(lists)"
      ],
      "metadata": {
        "colab": {
          "base_uri": "https://localhost:8080/"
        },
        "id": "zhihvKM2zBUN",
        "outputId": "ed805680-9516-4047-9dc5-60cf14d55fa0"
      },
      "execution_count": 10,
      "outputs": [
        {
          "output_type": "stream",
          "name": "stdout",
          "text": [
            "['abc', 'bhagsh', 'ajiwhs', 'efGHI']\n"
          ]
        }
      ]
    }
  ]
}