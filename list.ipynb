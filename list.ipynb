{
  "nbformat": 4,
  "nbformat_minor": 0,
  "metadata": {
    "colab": {
      "provenance": [],
      "authorship_tag": "ABX9TyPAG5eVpj7HCCbCjCnt/gKN",
      "include_colab_link": true
    },
    "kernelspec": {
      "name": "python3",
      "display_name": "Python 3"
    },
    "language_info": {
      "name": "python"
    }
  },
  "cells": [
    {
      "cell_type": "markdown",
      "metadata": {
        "id": "view-in-github",
        "colab_type": "text"
      },
      "source": [
        "<a href=\"https://colab.research.google.com/github/mahinkhan1408/Python/blob/main/list.ipynb\" target=\"_parent\"><img src=\"https://colab.research.google.com/assets/colab-badge.svg\" alt=\"Open In Colab\"/></a>"
      ]
    },
    {
      "cell_type": "markdown",
      "source": [
        "List are\n",
        "* orderd,\n",
        "* mutable,\n",
        "* allow duplicates\n",
        "* order are remembered"
      ],
      "metadata": {
        "id": "9qjOHsq5BFsg"
      }
    },
    {
      "cell_type": "code",
      "execution_count": 2,
      "metadata": {
        "colab": {
          "base_uri": "https://localhost:8080/"
        },
        "id": "lbIBSThgA_Gt",
        "outputId": "4e9fee27-00d9-4c5b-bdc2-bed3c158aae7"
      },
      "outputs": [
        {
          "output_type": "stream",
          "name": "stdout",
          "text": [
            "['abul', 'dabul', 'kabul']\n"
          ]
        }
      ],
      "source": [
        "a = ['abul','dabul','kabul']\n",
        "print(a)"
      ]
    },
    {
      "cell_type": "code",
      "source": [
        "print( a[1])\n"
      ],
      "metadata": {
        "colab": {
          "base_uri": "https://localhost:8080/"
        },
        "id": "Rl9FPTs5Br3c",
        "outputId": "be7a8c53-c5ca-4ce8-f0e6-f31317e5846b"
      },
      "execution_count": 3,
      "outputs": [
        {
          "output_type": "stream",
          "name": "stdout",
          "text": [
            "dabul\n"
          ]
        }
      ]
    },
    {
      "cell_type": "code",
      "source": [
        "a[1]= 'abuler abba'\n",
        "print(a)"
      ],
      "metadata": {
        "colab": {
          "base_uri": "https://localhost:8080/"
        },
        "id": "bTv2YY-wByX1",
        "outputId": "840080af-37bc-47f5-a0f7-38b5c6a72cea"
      },
      "execution_count": 4,
      "outputs": [
        {
          "output_type": "stream",
          "name": "stdout",
          "text": [
            "['abul', 'abuler abba', 'kabul']\n"
          ]
        }
      ]
    },
    {
      "cell_type": "code",
      "source": [
        "\n",
        "a.append('abuler khala') # appending elements # will take only 1 argument\n",
        "a.append(['abuler khala','abulder ']) # appending a list\n",
        "print(a)"
      ],
      "metadata": {
        "colab": {
          "base_uri": "https://localhost:8080/"
        },
        "id": "7stxO1etB31X",
        "outputId": "f977d788-027d-4cbe-fbc6-620568acb520"
      },
      "execution_count": 7,
      "outputs": [
        {
          "output_type": "stream",
          "name": "stdout",
          "text": [
            "['abul', 'abuler abba', 'kabul', ['abuler khala', 'abulder '], 'abuler khala', ['abuler khala', 'abulder ']]\n"
          ]
        }
      ]
    },
    {
      "cell_type": "code",
      "source": [
        "#appending in a specifix index with inesrt\n",
        "\n",
        "a.insert(1,'abuler maa')\n",
        "print(a)"
      ],
      "metadata": {
        "colab": {
          "base_uri": "https://localhost:8080/"
        },
        "id": "2Mqqc2NeCWrc",
        "outputId": "7e4ab312-d690-416e-a637-87d8ec17fe60"
      },
      "execution_count": 10,
      "outputs": [
        {
          "output_type": "stream",
          "name": "stdout",
          "text": [
            "['abul', 'abuler maa', 'abuler maa', 'abuler maa', 'abuler abba', 'kabul', ['abuler khala', 'abulder '], 'abuler khala', ['abuler khala', 'abulder ']]\n"
          ]
        }
      ]
    },
    {
      "cell_type": "code",
      "source": [
        "#remove element (2 way)\n",
        "\n",
        "a.remove('abuler maa')\n",
        "\n",
        "print(a)"
      ],
      "metadata": {
        "colab": {
          "base_uri": "https://localhost:8080/"
        },
        "id": "ZcLGobYmE_xP",
        "outputId": "755a0ee2-063e-4da6-e025-66a51590b865"
      },
      "execution_count": 18,
      "outputs": [
        {
          "output_type": "stream",
          "name": "stdout",
          "text": [
            "['abuler maa', 'abuler maa', 'abuler abba', ['abuler khala', 'abulder '], 'abuler khala', ['abuler khala', 'abulder ']]\n"
          ]
        }
      ]
    },
    {
      "cell_type": "code",
      "source": [
        "#remove through index\n",
        "\n",
        "a.pop(1)\n",
        "print(a)"
      ],
      "metadata": {
        "colab": {
          "base_uri": "https://localhost:8080/"
        },
        "id": "fR9yamxgFpa1",
        "outputId": "911c7a39-cd33-4e2e-caa9-c93524034d2b"
      },
      "execution_count": 23,
      "outputs": [
        {
          "output_type": "stream",
          "name": "stdout",
          "text": [
            "['abuler maa', ['abuler khala', 'abulder '], 'abuler khala', ['abuler khala', 'abulder ']]\n"
          ]
        }
      ]
    },
    {
      "cell_type": "code",
      "source": [
        "for x in a:\n",
        "  print(a)\n",
        "  print(x)"
      ],
      "metadata": {
        "colab": {
          "base_uri": "https://localhost:8080/"
        },
        "id": "IHfoKx42FtjK",
        "outputId": "14bb105d-d92f-4ec6-a359-32b7e3e087c0"
      },
      "execution_count": 25,
      "outputs": [
        {
          "output_type": "stream",
          "name": "stdout",
          "text": [
            "['abuler maa', ['abuler khala', 'abulder '], 'abuler khala', ['abuler khala', 'abulder ']]\n",
            "abuler maa\n",
            "['abuler maa', ['abuler khala', 'abulder '], 'abuler khala', ['abuler khala', 'abulder ']]\n",
            "['abuler khala', 'abulder ']\n",
            "['abuler maa', ['abuler khala', 'abulder '], 'abuler khala', ['abuler khala', 'abulder ']]\n",
            "abuler khala\n",
            "['abuler maa', ['abuler khala', 'abulder '], 'abuler khala', ['abuler khala', 'abulder ']]\n",
            "['abuler khala', 'abulder ']\n"
          ]
        }
      ]
    }
  ]
}