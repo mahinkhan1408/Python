{
  "nbformat": 4,
  "nbformat_minor": 0,
  "metadata": {
    "colab": {
      "provenance": [],
      "authorship_tag": "ABX9TyOu3YuxjFVZbmgcaRaiM/4X",
      "include_colab_link": true
    },
    "kernelspec": {
      "name": "python3",
      "display_name": "Python 3"
    },
    "language_info": {
      "name": "python"
    }
  },
  "cells": [
    {
      "cell_type": "markdown",
      "metadata": {
        "id": "view-in-github",
        "colab_type": "text"
      },
      "source": [
        "<a href=\"https://colab.research.google.com/github/mahinkhan1408/Python/blob/main/Dictionhary.ipynb\" target=\"_parent\"><img src=\"https://colab.research.google.com/assets/colab-badge.svg\" alt=\"Open In Colab\"/></a>"
      ]
    },
    {
      "cell_type": "markdown",
      "source": [
        "Dict are like indexes\n",
        "\n",
        "* ordered (after python 3.6)\n",
        "* mutable\n",
        "* no dubplicated"
      ],
      "metadata": {
        "id": "AIgr2ZS4PUrJ"
      }
    },
    {
      "cell_type": "code",
      "execution_count": 1,
      "metadata": {
        "colab": {
          "base_uri": "https://localhost:8080/"
        },
        "id": "7Z3E3RhJPLU2",
        "outputId": "3c72172d-00d3-437b-fa38-3f838b2d3deb"
      },
      "outputs": [
        {
          "output_type": "stream",
          "name": "stdout",
          "text": [
            "alu\n"
          ]
        }
      ],
      "source": [
        "a = {'name': 'alu', 'city':'cou','age':12}\n",
        "print(a['name'])"
      ]
    },
    {
      "cell_type": "code",
      "source": [
        "a.get('city')\n"
      ],
      "metadata": {
        "colab": {
          "base_uri": "https://localhost:8080/",
          "height": 36
        },
        "id": "_Rc6EAKCP0PA",
        "outputId": "26cd33b1-4d1c-4074-9188-8eb11f35cb2f"
      },
      "execution_count": 4,
      "outputs": [
        {
          "output_type": "execute_result",
          "data": {
            "text/plain": [
              "'cou'"
            ],
            "application/vnd.google.colaboratory.intrinsic+json": {
              "type": "string"
            }
          },
          "metadata": {},
          "execution_count": 4
        }
      ]
    },
    {
      "cell_type": "code",
      "source": [
        "keys = a.keys() # name,cirt, age\n",
        "print(keys)"
      ],
      "metadata": {
        "colab": {
          "base_uri": "https://localhost:8080/"
        },
        "id": "2hv5YN1hQBw-",
        "outputId": "63144908-a8b3-4a29-bbf9-f653f6a72bb0"
      },
      "execution_count": 5,
      "outputs": [
        {
          "output_type": "stream",
          "name": "stdout",
          "text": [
            "dict_keys(['name', 'city', 'age'])\n"
          ]
        }
      ]
    },
    {
      "cell_type": "code",
      "source": [
        "values = a.values() # alu, cou, 12\n",
        "print(values)"
      ],
      "metadata": {
        "colab": {
          "base_uri": "https://localhost:8080/"
        },
        "id": "dPMfbzjcQJaU",
        "outputId": "d23dd654-f989-49af-e122-97ecef59092f"
      },
      "execution_count": 6,
      "outputs": [
        {
          "output_type": "stream",
          "name": "stdout",
          "text": [
            "dict_values(['alu', 'cou', 12])\n"
          ]
        }
      ]
    },
    {
      "cell_type": "code",
      "source": [
        "# if a specific key exists\n",
        "\n",
        "if 'name' in a:\n",
        "  print('yes')"
      ],
      "metadata": {
        "colab": {
          "base_uri": "https://localhost:8080/"
        },
        "id": "NLz5zy-2QWAQ",
        "outputId": "82468486-2559-4107-9bb4-f22a25a656ad"
      },
      "execution_count": 8,
      "outputs": [
        {
          "output_type": "stream",
          "name": "stdout",
          "text": [
            "yes\n"
          ]
        }
      ]
    },
    {
      "cell_type": "code",
      "source": [
        "# change valuye of keys\n",
        "\n",
        "a['city'] = 'dhaka'\n",
        "print(a)\n"
      ],
      "metadata": {
        "colab": {
          "base_uri": "https://localhost:8080/"
        },
        "id": "Ca_ImsJdQg0q",
        "outputId": "a6cf0854-529b-433e-b430-924d4078b90a"
      },
      "execution_count": 9,
      "outputs": [
        {
          "output_type": "stream",
          "name": "stdout",
          "text": [
            "{'name': 'alu', 'city': 'dhaka', 'age': 12}\n"
          ]
        }
      ]
    },
    {
      "cell_type": "code",
      "source": [
        "# update a new element\n",
        "\n",
        "a.update({'mobile': 124545})\n",
        "print(a)"
      ],
      "metadata": {
        "colab": {
          "base_uri": "https://localhost:8080/"
        },
        "id": "FbWwF9MPQnju",
        "outputId": "b8c818f4-dccc-45bc-b38e-5a1c92ccf172"
      },
      "execution_count": 11,
      "outputs": [
        {
          "output_type": "stream",
          "name": "stdout",
          "text": [
            "{'name': 'alu', 'city': 'dhaka', 'age': 12, 'mobile': 124545}\n"
          ]
        }
      ]
    },
    {
      "cell_type": "code",
      "source": [
        "a.pop('city')\n",
        "print(a)"
      ],
      "metadata": {
        "colab": {
          "base_uri": "https://localhost:8080/"
        },
        "id": "c-5IOXlmQ4qa",
        "outputId": "1a011f24-f19b-4c69-b4c2-786fb9e710f4"
      },
      "execution_count": 12,
      "outputs": [
        {
          "output_type": "stream",
          "name": "stdout",
          "text": [
            "{'name': 'alu', 'age': 12, 'mobile': 124545}\n"
          ]
        }
      ]
    },
    {
      "cell_type": "code",
      "source": [
        "# to iterate\n",
        "\n",
        "for x in a.keys():\n",
        "  print(a[x])\n",
        ""
      ],
      "metadata": {
        "colab": {
          "base_uri": "https://localhost:8080/"
        },
        "id": "81bIboo5Q9xN",
        "outputId": "654e1de9-4d21-42b1-befb-b34296529526"
      },
      "execution_count": 13,
      "outputs": [
        {
          "output_type": "stream",
          "name": "stdout",
          "text": [
            "alu\n",
            "12\n",
            "124545\n"
          ]
        }
      ]
    },
    {
      "cell_type": "markdown",
      "source": [
        "# cant copy one dict to another one\n",
        " new_a = **a**\n",
        "\n",
        " here both will point to the same dict\n",
        "\n",
        " if we add something in new_a, it will automatically in the a also.\n",
        "new dict and old dict will be the same one"
      ],
      "metadata": {
        "id": "a24UlIlDRVRc"
      }
    },
    {
      "cell_type": "code",
      "source": [
        "new_a = a\n",
        "new_a.update({'ali':123})\n",
        "print(a)"
      ],
      "metadata": {
        "colab": {
          "base_uri": "https://localhost:8080/"
        },
        "id": "NiiZ2eQNRNis",
        "outputId": "302af5e7-e2dd-4f16-cacf-b759705a7a5e"
      },
      "execution_count": 17,
      "outputs": [
        {
          "output_type": "stream",
          "name": "stdout",
          "text": [
            "{'name': 'alu', 'age': 12, 'mobile': 124545, 'ali': 123}\n"
          ]
        }
      ]
    },
    {
      "cell_type": "code",
      "source": [
        "#to copy we have to use the copy function\n",
        "\n",
        "newaa= a.copy()  # now changing in to the newaa wont affect the a\n"
      ],
      "metadata": {
        "id": "IcC4wNDjSLor"
      },
      "execution_count": 18,
      "outputs": []
    },
    {
      "cell_type": "code",
      "source": [],
      "metadata": {
        "id": "TLflW5RZQ094"
      },
      "execution_count": null,
      "outputs": []
    }
  ]
}